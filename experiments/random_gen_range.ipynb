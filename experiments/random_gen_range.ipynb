{
 "cells": [
  {
   "cell_type": "code",
   "execution_count": 139,
   "id": "540e18c0",
   "metadata": {},
   "outputs": [],
   "source": [
    "from qiskit import *\n",
    "from qiskit.providers.ibmq import least_busy\n",
    "from qiskit.tools.monitor import job_monitor"
   ]
  },
  {
   "cell_type": "code",
   "execution_count": 140,
   "id": "3e93dc01",
   "metadata": {},
   "outputs": [],
   "source": [
    "class QBitGen:\n",
    "    def __init__(self):\n",
    "        self.__random_gen = \"\"\n",
    "        self.__qrn_circ = None\n",
    "        self.__failed_results = False\n",
    "        self.__provider = None\n",
    "\n",
    "    # Setup the circuit \n",
    "    def init_circ(self):\n",
    "        qcirc = QuantumCircuit(1, 1)\n",
    "\n",
    "        # prepare |+> state\n",
    "        qcirc.h(0)\n",
    "        qcirc.barrier()\n",
    "\n",
    "        # Perform measurements in z-basis\n",
    "        qcirc.measure(0, 0)\n",
    "\n",
    "        self.__qrn_circ = qcirc\n",
    "        \n",
    "            \n",
    "    # Return the random, generated sequence, or \"\" if error\n",
    "    def get_random(self)->str:\n",
    "        if self.__random_gen == \"\" or self.__failed_results == True:\n",
    "            print(\"Could not fetch random or out of range, try to generate it again\")\n",
    "            return \"\"\n",
    "        return self.__random_gen\n",
    "    \n",
    "    # Run the circuit in simulator\n",
    "    def simulate_circ(self, num_shots=4096):        \n",
    "        if(self.__qrn_circ == None):\n",
    "            print(\"Initialize the circuit first\")\n",
    "            return\n",
    "        \n",
    "        aer_sim = Aer.get_backend('aer_simulator')\n",
    "        qobj = assemble(self.__qrn_circ, shots = num_shots, memory=True)\n",
    "        result = aer_sim.run(qobj).result().get_memory()\n",
    "        \n",
    "        # Calculate X\n",
    "        random_gen = 0\n",
    "        for i in range(len(result)):\n",
    "            random_gen = random_gen + int(result[i])/(pow(2,i+1))\n",
    "            \n",
    "        if random_gen == 0:\n",
    "            self.__failed_results = True\n",
    "            return\n",
    "\n",
    "        self.__failed_results = False\n",
    "        self.__random_gen = random_gen\n",
    "\n",
    "    # Load the IBMQ account\n",
    "    def load_provider(self):\n",
    "        try:\n",
    "            IBMQ.load_account()\n",
    "            self.__provider = IBMQ.get_provider(hub='ibm-q')\n",
    "        except IBMQProviderError:\n",
    "            print(\"Could not fetch providers\")\n",
    "\n",
    "\n",
    "    # Run on the real hardware\n",
    "    def evaluate_circ(self, num_shots=100):\n",
    "        if self.__qrn_circ == None:\n",
    "            print(\"Initialize the circuit first\")\n",
    "            return\n",
    "        \n",
    "        if self.__provider == None:\n",
    "            print(\"Load the available IBMQ providers first\")\n",
    "            return\n",
    "        \n",
    "        assert(num_shots > 0)\n",
    "\n",
    "        # Run the job on the least busy backend and store the results\n",
    "        backend = least_busy(self.__provider.backends(filters=lambda b: b.configuration().n_qubits == 5 and\n",
    "                                   not b.configuration().simulator and b.status().operational==True))\n",
    "\n",
    "        job = backend.run(transpile(self.__qrn_circ, backend, optimization_level=3), \n",
    "                          memory=True, meas_level=2, shots=num_shots)\n",
    "        job_monitor(job)\n",
    "        result = job.result().get_memory()\n",
    "        \n",
    "        # Calculate X\n",
    "        random_gen = 0\n",
    "        for i in range(len(result)):\n",
    "            random_gen = random_gen + int(result[i])/(pow(2,i+1))\n",
    "            \n",
    "        if random_gen == 0:\n",
    "            self.__failed_results = True\n",
    "            return\n",
    "\n",
    "        self.__failed_results = False\n",
    "        self.__random_gen = random_gen"
   ]
  },
  {
   "cell_type": "code",
   "execution_count": 141,
   "id": "9e6ff776",
   "metadata": {},
   "outputs": [],
   "source": [
    "# Can first verify using the simulator:\n",
    "\n",
    "#qbg = QBitGen()\n",
    "#qbg.init_circ()\n",
    "#qbg.simulate_circ()\n",
    "#print(qbg.get_random())"
   ]
  },
  {
   "cell_type": "code",
   "execution_count": 142,
   "id": "92685285",
   "metadata": {},
   "outputs": [
    {
     "name": "stderr",
     "output_type": "stream",
     "text": [
      "ibmqfactory.load_account:WARNING:2022-04-22 01:12:49,330: Credentials are already in use. The existing account in the session will be replaced.\n"
     ]
    },
    {
     "name": "stdout",
     "output_type": "stream",
     "text": [
      "Job Status: job is queued (27)    "
     ]
    },
    {
     "ename": "KeyboardInterrupt",
     "evalue": "",
     "output_type": "error",
     "traceback": [
      "\u001b[0;31m---------------------------------------------------------------------------\u001b[0m",
      "\u001b[0;31mKeyboardInterrupt\u001b[0m                         Traceback (most recent call last)",
      "\u001b[0;32m/var/folders/mq/5kvxz8v55cdgcw5vmkyj65hm0000gn/T/ipykernel_95195/1219718109.py\u001b[0m in \u001b[0;36m<module>\u001b[0;34m\u001b[0m\n\u001b[1;32m      2\u001b[0m \u001b[0mqbg\u001b[0m\u001b[0;34m.\u001b[0m\u001b[0minit_circ\u001b[0m\u001b[0;34m(\u001b[0m\u001b[0;34m)\u001b[0m\u001b[0;34m\u001b[0m\u001b[0;34m\u001b[0m\u001b[0m\n\u001b[1;32m      3\u001b[0m \u001b[0mqbg\u001b[0m\u001b[0;34m.\u001b[0m\u001b[0mload_provider\u001b[0m\u001b[0;34m(\u001b[0m\u001b[0;34m)\u001b[0m\u001b[0;34m\u001b[0m\u001b[0;34m\u001b[0m\u001b[0m\n\u001b[0;32m----> 4\u001b[0;31m \u001b[0mqbg\u001b[0m\u001b[0;34m.\u001b[0m\u001b[0mevaluate_circ\u001b[0m\u001b[0;34m(\u001b[0m\u001b[0;36m20\u001b[0m\u001b[0;34m)\u001b[0m\u001b[0;34m\u001b[0m\u001b[0;34m\u001b[0m\u001b[0m\n\u001b[0m\u001b[1;32m      5\u001b[0m \u001b[0;34m\u001b[0m\u001b[0m\n",
      "\u001b[0;32m/var/folders/mq/5kvxz8v55cdgcw5vmkyj65hm0000gn/T/ipykernel_95195/3430342619.py\u001b[0m in \u001b[0;36mevaluate_circ\u001b[0;34m(self, num_shots)\u001b[0m\n\u001b[1;32m     77\u001b[0m         job = backend.run(transpile(self.__qrn_circ, backend, optimization_level=3), \n\u001b[1;32m     78\u001b[0m                           memory=True, meas_level=2, shots=num_shots)\n\u001b[0;32m---> 79\u001b[0;31m         \u001b[0mjob_monitor\u001b[0m\u001b[0;34m(\u001b[0m\u001b[0mjob\u001b[0m\u001b[0;34m)\u001b[0m\u001b[0;34m\u001b[0m\u001b[0;34m\u001b[0m\u001b[0m\n\u001b[0m\u001b[1;32m     80\u001b[0m         \u001b[0mresult\u001b[0m \u001b[0;34m=\u001b[0m \u001b[0mjob\u001b[0m\u001b[0;34m.\u001b[0m\u001b[0mresult\u001b[0m\u001b[0;34m(\u001b[0m\u001b[0;34m)\u001b[0m\u001b[0;34m.\u001b[0m\u001b[0mget_memory\u001b[0m\u001b[0;34m(\u001b[0m\u001b[0;34m)\u001b[0m\u001b[0;34m\u001b[0m\u001b[0;34m\u001b[0m\u001b[0m\n\u001b[1;32m     81\u001b[0m \u001b[0;34m\u001b[0m\u001b[0m\n",
      "\u001b[0;32m~/opt/anaconda3/lib/python3.9/site-packages/qiskit/tools/monitor/job_monitor.py\u001b[0m in \u001b[0;36mjob_monitor\u001b[0;34m(job, interval, quiet, output, line_discipline)\u001b[0m\n\u001b[1;32m     87\u001b[0m         \u001b[0m_interval_set\u001b[0m \u001b[0;34m=\u001b[0m \u001b[0;32mTrue\u001b[0m\u001b[0;34m\u001b[0m\u001b[0;34m\u001b[0m\u001b[0m\n\u001b[1;32m     88\u001b[0m \u001b[0;34m\u001b[0m\u001b[0m\n\u001b[0;32m---> 89\u001b[0;31m     _text_checker(\n\u001b[0m\u001b[1;32m     90\u001b[0m         \u001b[0mjob\u001b[0m\u001b[0;34m,\u001b[0m \u001b[0minterval\u001b[0m\u001b[0;34m,\u001b[0m \u001b[0m_interval_set\u001b[0m\u001b[0;34m,\u001b[0m \u001b[0mquiet\u001b[0m\u001b[0;34m=\u001b[0m\u001b[0mquiet\u001b[0m\u001b[0;34m,\u001b[0m \u001b[0moutput\u001b[0m\u001b[0;34m=\u001b[0m\u001b[0moutput\u001b[0m\u001b[0;34m,\u001b[0m \u001b[0mline_discipline\u001b[0m\u001b[0;34m=\u001b[0m\u001b[0mline_discipline\u001b[0m\u001b[0;34m\u001b[0m\u001b[0;34m\u001b[0m\u001b[0m\n\u001b[1;32m     91\u001b[0m     )\n",
      "\u001b[0;32m~/opt/anaconda3/lib/python3.9/site-packages/qiskit/tools/monitor/job_monitor.py\u001b[0m in \u001b[0;36m_text_checker\u001b[0;34m(job, interval, _interval_set, quiet, output, line_discipline)\u001b[0m\n\u001b[1;32m     42\u001b[0m         \u001b[0mprint\u001b[0m\u001b[0;34m(\u001b[0m\u001b[0;34m\"{}{}: {}\"\u001b[0m\u001b[0;34m.\u001b[0m\u001b[0mformat\u001b[0m\u001b[0;34m(\u001b[0m\u001b[0mline_discipline\u001b[0m\u001b[0;34m,\u001b[0m \u001b[0;34m\"Job Status\"\u001b[0m\u001b[0;34m,\u001b[0m \u001b[0mmsg\u001b[0m\u001b[0;34m)\u001b[0m\u001b[0;34m,\u001b[0m \u001b[0mend\u001b[0m\u001b[0;34m=\u001b[0m\u001b[0;34m\"\"\u001b[0m\u001b[0;34m,\u001b[0m \u001b[0mfile\u001b[0m\u001b[0;34m=\u001b[0m\u001b[0moutput\u001b[0m\u001b[0;34m)\u001b[0m\u001b[0;34m\u001b[0m\u001b[0;34m\u001b[0m\u001b[0m\n\u001b[1;32m     43\u001b[0m     \u001b[0;32mwhile\u001b[0m \u001b[0mstatus\u001b[0m\u001b[0;34m.\u001b[0m\u001b[0mname\u001b[0m \u001b[0;32mnot\u001b[0m \u001b[0;32min\u001b[0m \u001b[0;34m[\u001b[0m\u001b[0;34m\"DONE\"\u001b[0m\u001b[0;34m,\u001b[0m \u001b[0;34m\"CANCELLED\"\u001b[0m\u001b[0;34m,\u001b[0m \u001b[0;34m\"ERROR\"\u001b[0m\u001b[0;34m]\u001b[0m\u001b[0;34m:\u001b[0m\u001b[0;34m\u001b[0m\u001b[0;34m\u001b[0m\u001b[0m\n\u001b[0;32m---> 44\u001b[0;31m         \u001b[0mtime\u001b[0m\u001b[0;34m.\u001b[0m\u001b[0msleep\u001b[0m\u001b[0;34m(\u001b[0m\u001b[0minterval\u001b[0m\u001b[0;34m)\u001b[0m\u001b[0;34m\u001b[0m\u001b[0;34m\u001b[0m\u001b[0m\n\u001b[0m\u001b[1;32m     45\u001b[0m         \u001b[0mstatus\u001b[0m \u001b[0;34m=\u001b[0m \u001b[0mjob\u001b[0m\u001b[0;34m.\u001b[0m\u001b[0mstatus\u001b[0m\u001b[0;34m(\u001b[0m\u001b[0;34m)\u001b[0m\u001b[0;34m\u001b[0m\u001b[0;34m\u001b[0m\u001b[0m\n\u001b[1;32m     46\u001b[0m         \u001b[0mmsg\u001b[0m \u001b[0;34m=\u001b[0m \u001b[0mstatus\u001b[0m\u001b[0;34m.\u001b[0m\u001b[0mvalue\u001b[0m\u001b[0;34m\u001b[0m\u001b[0;34m\u001b[0m\u001b[0m\n",
      "\u001b[0;31mKeyboardInterrupt\u001b[0m: "
     ]
    }
   ],
   "source": [
    "# Then run on a run quantum computer:\n",
    "\n",
    "qbg = QBitGen()\n",
    "qbg.init_circ()\n",
    "qbg.load_provider()\n",
    "qbg.evaluate_circ(20)"
   ]
  },
  {
   "cell_type": "code",
   "execution_count": null,
   "id": "cba2b653",
   "metadata": {},
   "outputs": [],
   "source": [
    "print(qbg.get_random())\n",
    "print(len(qbg.get_random()))"
   ]
  },
  {
   "cell_type": "code",
   "execution_count": null,
   "id": "a2e5a432",
   "metadata": {},
   "outputs": [],
   "source": []
  }
 ],
 "metadata": {
  "kernelspec": {
   "display_name": "Python 3 (ipykernel)",
   "language": "python",
   "name": "python3"
  },
  "language_info": {
   "codemirror_mode": {
    "name": "ipython",
    "version": 3
   },
   "file_extension": ".py",
   "mimetype": "text/x-python",
   "name": "python",
   "nbconvert_exporter": "python",
   "pygments_lexer": "ipython3",
   "version": "3.9.7"
  }
 },
 "nbformat": 4,
 "nbformat_minor": 5
}
