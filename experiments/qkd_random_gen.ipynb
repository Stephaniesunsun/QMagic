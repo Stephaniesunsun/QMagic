{
 "cells": [
  {
   "cell_type": "code",
   "execution_count": 6,
   "id": "1f3d54b8",
   "metadata": {},
   "outputs": [],
   "source": [
    "from qiskit import *\n",
    "from qiskit.providers.ibmq import least_busy\n",
    "from qiskit.tools.monitor import job_monitor"
   ]
  },
  {
   "cell_type": "code",
   "execution_count": null,
   "id": "f96c339e",
   "metadata": {},
   "outputs": [],
   "source": [
    "# Note: Use larger num_shots in evaluate_circ() than the bit size you need.\n",
    "# User is supposed to verify by themselves if the random bit num length \n",
    "# returned with get_random() meets their minimum length requirements. Number\n",
    "# returned is going to be <num_shots passed in to evaluate_circ() due to noise\n",
    "# in real hardware and uncertainty of real measurements. This is not true for\n",
    "# simulate_circ() as results here are 'idealized' and the condition\n",
    "# num_shots == len(get_random()) will always hold.\n",
    "\n",
    "# To use, first call init_circ() to initialize the circuit with 3 entangled qubits. \n",
    "# If you choose to run in a simulation (aer-backend), simply call simulate_circ()\n",
    "# and pass in the number of shots requested (corresponding to final length of the\n",
    "# randomly generated sequence of bits). Otherwise, call load_provider() to load\n",
    "# the available real-hardware backends from IBM-Q, which assumes assumes account \n",
    "# token has been already saved, and then evaluate_circ() (again, pass in the requested\n",
    "# shot count). Once the simulation/request-to-hardware is ran, call get_random() to\n",
    "# have the random bit sequence returned."
   ]
  },
  {
   "cell_type": "code",
   "execution_count": 49,
   "id": "660582a4",
   "metadata": {},
   "outputs": [],
   "source": [
    "class QBitGen:\n",
    "    def __init__(self):\n",
    "        self.__random_gen = \"\"\n",
    "        self.__qrn_circ = None\n",
    "        self.__failed_results = False\n",
    "        self.__provider = None\n",
    "\n",
    "    # Setup the circuit \n",
    "    def init_circ(self):\n",
    "        qcirc = QuantumCircuit(3, 3)\n",
    "\n",
    "        # Create a state of 3 entangled qbits\n",
    "        qcirc.h(2)\n",
    "        qcirc.cx(2, 0)\n",
    "        qcirc.barrier()\n",
    "\n",
    "        qcirc.h(1)\n",
    "        qcirc.cx(1, 0)\n",
    "        qcirc.barrier()\n",
    "\n",
    "        # Perform measurements in z-basis\n",
    "        qcirc.measure(0, 0)\n",
    "        qcirc.measure(1, 1)\n",
    "        qcirc.measure(2, 2)\n",
    "\n",
    "        self.__qrn_circ = qcirc\n",
    "        \n",
    "    # Run the circuit in simulator\n",
    "    def simulate_circ(self, num_shots=1024):        \n",
    "        if(self.__qrn_circ == None):\n",
    "            print(\"Initialize the circuit first\")\n",
    "            return\n",
    "        \n",
    "        aer_sim = Aer.get_backend('aer_simulator')\n",
    "        qobj = assemble(self.__qrn_circ, shots = num_shots, memory=True)\n",
    "        result = aer_sim.run(qobj).result().get_memory()\n",
    "\n",
    "        # Verify XOR-rule for obtained results\n",
    "        random_gen = \"\"\n",
    "        for measurement in result:\n",
    "            if int(measurement[0]) ^ int(measurement[1]) != int(measurement[2]):\n",
    "                print(\"Bad result found: \" + measurement)\n",
    "                self.__failed_results = True\n",
    "                return\n",
    "\n",
    "            # Append the measurement\n",
    "            random_gen += measurement[0]\n",
    "\n",
    "        self.__failed_results = False\n",
    "        self.__random_gen = random_gen\n",
    "    \n",
    "    # Load the IBMQ account\n",
    "    def load_provider(self):\n",
    "        try:\n",
    "            IBMQ.load_account()\n",
    "            self.__provider = IBMQ.get_provider(hub='ibm-q')\n",
    "        except IBMQProviderError:\n",
    "            print(\"Could not fetch providers\")\n",
    "    \n",
    "    # Return the random, generated sequence, or \"\" if error\n",
    "    def get_random(self)->str:\n",
    "        if self.__random_gen == \"\" or self.__failed_results == True:\n",
    "            print(\"Could not fetch random, try to generate it again\")\n",
    "            return \"\"\n",
    "        return self.__random_gen\n",
    "    \n",
    "    # Run on the real hardware\n",
    "    def evaluate_circ(self, num_shots=100):\n",
    "        if self.__qrn_circ == None:\n",
    "            print(\"Initialize the circuit first\")\n",
    "            return\n",
    "        \n",
    "        if self.__provider == None:\n",
    "            print(\"Load the available IBMQ providers first\")\n",
    "            return\n",
    "        \n",
    "        assert(num_shots > 0)\n",
    "\n",
    "        # Run the job on the least busy backend and store the results\n",
    "        backend = least_busy(self.__provider.backends(filters=lambda b: b.configuration().n_qubits == 5 and\n",
    "                                   not b.configuration().simulator and b.status().operational==True))\n",
    "\n",
    "        job = backend.run(transpile(self.__qrn_circ, backend, optimization_level=3), \n",
    "                          memory=True, meas_level=2, shots=num_shots)\n",
    "        job_monitor(job)\n",
    "        result = job.result().get_memory()\n",
    "            \n",
    "        # Verify XOR-rule for obtained results\n",
    "        random_gen = \"\"\n",
    "        for measurement in result:\n",
    "            if int(measurement[0]) ^ int(measurement[1]) != int(measurement[2]):\n",
    "                print(\"Bad result found: \" + measurement)\n",
    "                continue\n",
    "\n",
    "            # Append the measurement\n",
    "            random_gen += measurement[0]\n",
    "            \n",
    "        if random_gen == \"\":\n",
    "            self.__failed_results = True\n",
    "            return\n",
    "\n",
    "        self.__failed_results = False\n",
    "        self.__random_gen = random_gen"
   ]
  },
  {
   "cell_type": "code",
   "execution_count": 50,
   "id": "8701a264",
   "metadata": {},
   "outputs": [
    {
     "name": "stderr",
     "output_type": "stream",
     "text": [
      "ibmqfactory.load_account:WARNING:2022-04-21 16:39:37,700: Credentials are already in use. The existing account in the session will be replaced.\n"
     ]
    },
    {
     "name": "stdout",
     "output_type": "stream",
     "text": [
      "Job Status: job has successfully run\n",
      "Bad result found: 001\n",
      "Bad result found: 100\n",
      "Bad result found: 100\n",
      "Bad result found: 100\n",
      "Bad result found: 001\n"
     ]
    }
   ],
   "source": [
    "qbg = QBitGen()\n",
    "qbg.init_circ()\n",
    "qbg.load_provider()\n",
    "qbg.evaluate_circ(20)"
   ]
  },
  {
   "cell_type": "code",
   "execution_count": 51,
   "id": "0dddcd6e",
   "metadata": {},
   "outputs": [
    {
     "name": "stdout",
     "output_type": "stream",
     "text": [
      "100111100010000\n",
      "15\n"
     ]
    }
   ],
   "source": [
    "print(qbg.get_random())\n",
    "print(len(qbg.get_random()))"
   ]
  }
 ],
 "metadata": {
  "kernelspec": {
   "display_name": "Python 3 (ipykernel)",
   "language": "python",
   "name": "python3"
  },
  "language_info": {
   "codemirror_mode": {
    "name": "ipython",
    "version": 3
   },
   "file_extension": ".py",
   "mimetype": "text/x-python",
   "name": "python",
   "nbconvert_exporter": "python",
   "pygments_lexer": "ipython3",
   "version": "3.10.0"
  }
 },
 "nbformat": 4,
 "nbformat_minor": 5
}
