{
 "cells": [
  {
   "cell_type": "code",
   "execution_count": 50,
   "id": "1f3d54b8",
   "metadata": {},
   "outputs": [],
   "source": [
    "from qiskit import *\n",
    "# from qiskit.providers.ibmq import least_busy\n",
    "# from qiskit.tools.monitor import job_monitor"
   ]
  },
  {
   "cell_type": "code",
   "execution_count": null,
   "id": "660582a4",
   "metadata": {},
   "outputs": [],
   "source": [
    "class QBitGen:\n",
    "    def __init__(self):\n",
    "        self.__random_gen = \"\"\n",
    "        self.__qrn_circ = None\n",
    "        self.__failed_results = False\n",
    "        self.__provider = None\n",
    "\n",
    "    # Setup the circuit \n",
    "    def init_circ(self):\n",
    "        qcirc = QuantumCircuit(3, 3)\n",
    "\n",
    "        # Create a state of 3 entangled qbits\n",
    "        qcirc.h(0)\n",
    "        qcirc.cx(0, 2)\n",
    "        qcirc.barrier()\n",
    "\n",
    "        qcirc.h(1)\n",
    "        qcirc.cx(1, 2)\n",
    "        qcirc.barrier()\n",
    "\n",
    "        # Perform measurements in z-basis\n",
    "        qcirc.measure(0, 0)\n",
    "        qcirc.measure(1, 1)\n",
    "        qcirc.measure(2, 2)\n",
    "\n",
    "        self.__qrn_circ = qcirc\n",
    "        \n",
    "    # Run the circuit in simulator\n",
    "    def simulate_circ(self, num_shots = 1024):\n",
    "        if(self.__provider == None):\n",
    "            print(\"Load the IBMQ account first please\")\n",
    "        \n",
    "        aer_sim = Aer.get_backend('aer_simulator')\n",
    "        qobj = assemble(qrn_circ, shots = num_shots, memory=True)\n",
    "        result = aer_sim.run(qobj).result().get_memory()\n",
    "\n",
    "        # Verify XOR-rule for obtained results\n",
    "        \n",
    "        random_gen = \"\"\n",
    "        for measurement in result:\n",
    "            if int(measurement[0]) ^ int(measurement[1]) != int(measurement[2]):\n",
    "                print(\"Bad result found: \" + measurement)\n",
    "                self.__failed_results = True\n",
    "                return\n",
    "\n",
    "            # Append the measurement\n",
    "            random_gen += measurement[0]\n",
    "\n",
    "        self.__failed_results = False\n",
    "        self.__random_gen = random_gen\n",
    "    \n",
    "    # Load the IBMQ account, assumes account token has been alreadu saved for access to hardware\n",
    "    def load_provider(self):\n",
    "        try:\n",
    "            IBMQ.load_account()\n",
    "            self.__provider = IBMQ.get_provider(hub='ibm-q')\n",
    "        except IBMQProviderError:\n",
    "            print(\"Could not fetch providers\")\n",
    "    \n",
    "    def get_random(self)->str:\n",
    "        "
   ]
  }
 ],
 "metadata": {
  "kernelspec": {
   "display_name": "Python 3 (ipykernel)",
   "language": "python",
   "name": "python3"
  },
  "language_info": {
   "codemirror_mode": {
    "name": "ipython",
    "version": 3
   },
   "file_extension": ".py",
   "mimetype": "text/x-python",
   "name": "python",
   "nbconvert_exporter": "python",
   "pygments_lexer": "ipython3",
   "version": "3.10.0"
  }
 },
 "nbformat": 4,
 "nbformat_minor": 5
}
