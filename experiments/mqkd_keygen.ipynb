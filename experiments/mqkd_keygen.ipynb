{
 "cells": [
  {
   "cell_type": "code",
   "execution_count": 48,
   "id": "e23a9e45-ee8b-41f1-8ae1-0a2007854847",
   "metadata": {},
   "outputs": [],
   "source": [
    "import numpy as np\n",
    "from qiskit import *\n",
    "import qiskit.providers.aer.noise as noise"
   ]
  },
  {
   "cell_type": "code",
   "execution_count": 49,
   "id": "114bc669-5da8-4062-a140-bcad13750055",
   "metadata": {},
   "outputs": [
    {
     "name": "stderr",
     "output_type": "stream",
     "text": [
      "ibmqfactory.load_account:WARNING:2022-04-28 21:53:12,784: Credentials are already in use. The existing account in the session will be replaced.\n"
     ]
    },
    {
     "data": {
      "image/png": "[encoded data removed]",
      "text/plain": [
       "<Figure size 360x360 with 1 Axes>"
      ]
     },
     "execution_count": 49,
     "metadata": {},
     "output_type": "execute_result"
    }
   ],
   "source": [
    "from qiskit.providers.ibmq import least_busy\n",
    "from qiskit.visualization import plot_gate_map\n",
    "from qiskit.tools.monitor import job_monitor\n",
    "IBMQ.load_account()\n",
    "provider = IBMQ.get_provider(hub='ibm-q')\n",
    "backend = least_busy(provider.backends(filters=lambda b: b.configuration().n_qubits >= 4 and\n",
    "                                   not b.configuration().simulator and b.status().operational==True))\n",
    "plot_gate_map(backend)"
   ]
  },
  {
   "cell_type": "code",
   "execution_count": 51,
   "id": "39e54307-c8dc-4a8f-a94e-7662cf37b127",
   "metadata": {},
   "outputs": [],
   "source": [
    "noise_model = noise.NoiseModel.from_backend(backend)"
   ]
  },
  {
   "cell_type": "code",
   "execution_count": 52,
   "id": "9da5f30a-932b-4c27-8213-fbc1e517223a",
   "metadata": {},
   "outputs": [],
   "source": [
    "class Alice:\n",
    "    def __init__(self, epsilon, no_of_children):\n",
    "        self.epsilon = epsilon\n",
    "        self.no_of_children = no_of_children\n",
    "        self.measurements = list()\n",
    "        self.__gen_bit_flip_index()\n",
    "    \n",
    "    def __gen_bit_flip_index(self):\n",
    "        self.__index = 1 # np.random.randint(self.no_of_children) + 1\n",
    "        \n",
    "    def get_index(self)->int:\n",
    "        return self.__index\n",
    "        \n",
    "    def measure(self, measurement: int)->None:\n",
    "        self.measurements.append(measurement)\n",
    "    \n",
    "class Children:\n",
    "    def __init__(self, epsilon):\n",
    "        self.epsilon = epsilon\n",
    "        self.flip = False\n",
    "        self.bases = list()\n",
    "        self.__measurements = list()\n",
    "        \n",
    "    def set_flip(self):\n",
    "        self.flip = True\n",
    "        \n",
    "    def gen_measurement_basis(self, qc: QuantumCircuit, qr: int)->None:\n",
    "        e = np.random.rand()\n",
    "        if e <= self.epsilon:\n",
    "            self.bases.append('X')\n",
    "            qc.h(qr)\n",
    "        else:\n",
    "            self.bases.append('Z')\n",
    "        qc.measure(qr, qr)\n",
    "        \n",
    "    def get_alice_measurements(self, alice_measurements)->None:\n",
    "        self.alice_measurements = alice_measurements\n",
    "        \n",
    "    def get_all_bases(self, all_bases)->None:\n",
    "        self.all_bases = all_bases \n",
    "        \n",
    "    def gen_key(self):\n",
    "        for i in range(len(self.alice_measurements)):\n",
    "            if self.flip and self.alice_measurements[i] == 1:\n",
    "                self.__measurements[i] = 1 - self.__measurements[i]\n",
    "        idx_to_keep = list()\n",
    "        for i in range(len(self.bases)):\n",
    "            keep = True\n",
    "            for bases in self.all_bases:\n",
    "                if bases[i] == 'X':\n",
    "                    keep = False\n",
    "                    break\n",
    "            if keep:\n",
    "                idx_to_keep.append(i)\n",
    "        self.__key = [self.__measurements[idx] for idx in idx_to_keep]\n",
    "            \n",
    "    def measure(self, measurement: int)->None:\n",
    "        self.__measurements.append(measurement)\n",
    "        \n",
    "    def get_key(self):\n",
    "        return self.__key\n",
    "    \n",
    "    def get_measurememts(self):\n",
    "        return self.__measurements"
   ]
  },
  {
   "cell_type": "code",
   "execution_count": 53,
   "id": "9eced60f-7b8b-436d-a620-4574d35edae8",
   "metadata": {},
   "outputs": [],
   "source": [
    "class CommonSpace:\n",
    "    def __init__(self, no_of_children = 2, no_of_measurements = 1024):\n",
    "        epsilon = 0.1\n",
    "        self.no_of_children = no_of_children\n",
    "        self.no_of_measurements = no_of_measurements\n",
    "        self.alice = Alice(epsilon, self.no_of_children)\n",
    "        self.children = [Children(epsilon) for _ in range(self.no_of_children)]\n",
    "        self.qc = list()\n",
    "        \n",
    "    def gen_entanglement(self)->QuantumCircuit:\n",
    "        qc = QuantumCircuit(self.no_of_children + 1, self.no_of_children + 1)\n",
    "        qc.h(0)\n",
    "        qc.h(1)\n",
    "        for i in range(1, self.no_of_children):\n",
    "            qc.cx(i, i + 1)\n",
    "        idx = self.alice.get_index()\n",
    "        qc.cx(0, idx)\n",
    "        qc.barrier()\n",
    "        return qc\n",
    "    \n",
    "    def measurement_phase(self):\n",
    "        for _ in range(self.no_of_measurements):\n",
    "            qc = self.gen_entanglement()\n",
    "            qc.measure(0, 0)\n",
    "            self.__set_bases(qc)\n",
    "            self.qc.append(qc)\n",
    "            aer_sim = Aer.get_backend('aer_simulator')\n",
    "            result = execute(qc, aer_sim, shots = 1, noise_model = noise_model)\n",
    "            \n",
    "            self.alice.measure(int(list(result.result().get_counts().keys())[0][-1]))\n",
    "            for i in range(self.no_of_children):\n",
    "                self.children[i].measure(int(list(result.result().get_counts().keys())[0][-2 - i]))\n",
    "                \n",
    "    def agreement_phase(self):\n",
    "        all_bases = list()\n",
    "        for child in self.children:\n",
    "            child.get_alice_measurements(self.alice.measurements)\n",
    "            all_bases.append(child.bases)\n",
    "        self.children[self.alice.get_index() - 1].set_flip()\n",
    "        for child in self.children:\n",
    "            child.get_all_bases(all_bases)\n",
    "            child.gen_key()\n",
    "            \n",
    "    def __set_bases(self, qc: QuantumCircuit)->None:\n",
    "        for i in range(self.no_of_children):\n",
    "            self.children[i].gen_measurement_basis(qc, i + 1)"
   ]
  },
  {
   "cell_type": "code",
   "execution_count": 57,
   "id": "fc3bc4f2-c1c1-4462-8a10-97903e574de1",
   "metadata": {},
   "outputs": [],
   "source": [
    "cs = CommonSpace(no_of_children = 3, no_of_measurements = 16)\n",
    "cs.measurement_phase()\n",
    "cs.agreement_phase()"
   ]
  },
  {
   "cell_type": "code",
   "execution_count": 58,
   "id": "a13f788c-101a-4ab6-8408-4afda001d5b2",
   "metadata": {},
   "outputs": [
    {
     "name": "stdout",
     "output_type": "stream",
     "text": [
      "8\n",
      "[0, 0, 0, 0, 0, 0, 0, 0]\n",
      "[0, 0, 0, 1, 0, 0, 0, 0]\n",
      "[0, 0, 0, 1, 0, 1, 0, 0]\n",
      "Error Ratio: 0.25\n"
     ]
    }
   ],
   "source": [
    "print(len(cs.children[0].get_key()))\n",
    "key_len = len(cs.children[0].get_key())\n",
    "keys = list()\n",
    "for i in range(3):\n",
    "    print(cs.children[i].get_key())\n",
    "    keys.append(cs.children[i].get_key())\n",
    "\n",
    "err_count = 0\n",
    "for i in range(key_len):\n",
    "    if keys[0][i] != keys[1][i] or keys[1][i] != keys[2][i]:\n",
    "        err_count += 1\n",
    "        \n",
    "print(f\"Error Ratio: {err_count/key_len}\")"
   ]
  }
 ],
 "metadata": {
  "kernelspec": {
   "display_name": "Qiskit v0.35.0 (ipykernel)",
   "language": "python",
   "name": "python3"
  },
  "language_info": {
   "codemirror_mode": {
    "name": "ipython",
    "version": 3
   },
   "file_extension": ".py",
   "mimetype": "text/x-python",
   "name": "python",
   "nbconvert_exporter": "python",
   "pygments_lexer": "ipython3",
   "version": "3.8.13"
  },
  "widgets": {
   "application/vnd.jupyter.widget-state+json": {
    "state": {},
    "version_major": 2,
    "version_minor": 0
   }
  }
 },
 "nbformat": 4,
 "nbformat_minor": 5
}
