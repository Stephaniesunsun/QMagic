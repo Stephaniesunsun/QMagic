{
 "cells": [
  {
   "cell_type": "code",
   "execution_count": 1,
   "id": "e23a9e45-ee8b-41f1-8ae1-0a2007854847",
   "metadata": {},
   "outputs": [
    {
     "name": "stdout",
     "output_type": "stream",
     "text": [
      "importing Jupyter notebook from qkd_random_gen.ipynb\n"
     ]
    }
   ],
   "source": [
    "import numpy as np\n",
    "from qiskit import *\n",
    "import import_ipynb\n",
    "import qkd_random_gen as qrg"
   ]
  },
  {
   "cell_type": "code",
   "execution_count": 2,
   "id": "9da5f30a-932b-4c27-8213-fbc1e517223a",
   "metadata": {},
   "outputs": [],
   "source": [
    "class Alice:\n",
    "    def __init__(self, epsilon, no_of_children):\n",
    "        self.epsilon = epsilon\n",
    "        self.no_of_children = no_of_children\n",
    "        self.measurements = list()\n",
    "        self.__gen_bit_flip_index()\n",
    "    \n",
    "    def __gen_bit_flip_index(self):\n",
    "        self.__index = 1 # np.random.randint(self.no_of_children) + 1\n",
    "        \n",
    "    def get_index(self)->int:\n",
    "        return self.__index\n",
    "        \n",
    "    def measure(self, measurement: int)->None:\n",
    "        self.measurements.append(measurement)\n",
    "    \n",
    "class Children:\n",
    "    def __init__(self, epsilon):\n",
    "        self.epsilon = epsilon\n",
    "        self.flip = False\n",
    "        self.bases = list()\n",
    "        self.__measurements = list()\n",
    "        \n",
    "    def set_flip(self):\n",
    "        self.flip = True\n",
    "        \n",
    "    def gen_measurement_basis(self, qc: QuantumCircuit, qr: int)->None:\n",
    "        e = np.random.rand()\n",
    "        if e <= self.epsilon:\n",
    "            self.bases.append('X')\n",
    "            qc.h(qr)\n",
    "        else:\n",
    "            self.bases.append('Z')\n",
    "        qc.measure(qr, qr)\n",
    "        \n",
    "    def get_alice_measurements(self, alice_measurements)->None:\n",
    "        self.alice_measurements = alice_measurements\n",
    "        \n",
    "    def get_all_bases(self, all_bases)->None:\n",
    "        self.all_bases = all_bases \n",
    "        \n",
    "    def gen_key(self):\n",
    "        for i in range(len(self.alice_measurements)):\n",
    "            if self.flip and self.alice_measurements[i] == 1:\n",
    "                self.__measurements[i] = 1 - self.__measurements[i]\n",
    "        idx_to_keep = list()\n",
    "        for i in range(len(self.bases)):\n",
    "            keep = True\n",
    "            for bases in self.all_bases:\n",
    "                if bases[i] == 'X':\n",
    "                    keep = False\n",
    "                    break\n",
    "            if keep:\n",
    "                idx_to_keep.append(i)\n",
    "        self.__key = [self.__measurements[idx] for idx in idx_to_keep]\n",
    "            \n",
    "    def measure(self, measurement: int)->None:\n",
    "        self.__measurements.append(measurement)"
   ]
  },
  {
   "cell_type": "code",
   "execution_count": 5,
   "id": "9eced60f-7b8b-436d-a620-4574d35edae8",
   "metadata": {},
   "outputs": [],
   "source": [
    "class CommonSpace:\n",
    "    def __init__(self, no_of_children = 2, no_of_measurements = 1024):\n",
    "        self.epsilon = self.set_epsilon()\n",
    "        self.no_of_children = no_of_children\n",
    "        self.no_of_measurements = no_of_measurements\n",
    "        self.alice = Alice(self.epsilon, self.no_of_children)\n",
    "        self.children = [Children(self.epsilon) for _ in range(self.no_of_children)]\n",
    "        self.qc = list()\n",
    "    \n",
    "    def set_epsilon(self)->float:\n",
    "        qbg = qrg.QBitGen()\n",
    "        qbg.load_provider()\n",
    "        qbg.init_num_circ()\n",
    "        qbg.evaluate_circ(128, True)\n",
    "        return qbg.get_random(True)\n",
    "        \n",
    "    def gen_entanglement(self)->QuantumCircuit:\n",
    "        qc = QuantumCircuit(self.no_of_children + 1, self.no_of_children + 1)\n",
    "        qc.h(0)\n",
    "        qc.h(1)\n",
    "        for i in range(1, self.no_of_children):\n",
    "            qc.cx(i, i + 1)\n",
    "        idx = self.alice.get_index()\n",
    "        qc.cx(0, idx)\n",
    "        qc.barrier()\n",
    "        return qc\n",
    "    \n",
    "    def measurement_phase(self):\n",
    "        for _ in range(self.no_of_measurements):\n",
    "            qc = self.gen_entanglement()\n",
    "            qc.measure(0, 0)\n",
    "            self.__set_bases(qc)\n",
    "            self.qc.append(qc)\n",
    "            aer_sim = Aer.get_backend('aer_simulator')\n",
    "            qobj = assemble(qc, shots = 1, memory=True)\n",
    "            result = aer_sim.run(qobj).result()\n",
    "            self.alice.measure(int(result.get_memory()[0][-1]))\n",
    "            for i in range(self.no_of_children):\n",
    "                self.children[i].measure(int(result.get_memory()[0][-2 - i]))\n",
    "                \n",
    "    def agreement_phase(self):\n",
    "        all_bases = list()\n",
    "        for child in self.children:\n",
    "            child.get_alice_measurements(self.alice.measurements)\n",
    "            all_bases.append(child.bases)\n",
    "        self.children[self.alice.get_index() - 1].set_flip()\n",
    "        for child in self.children:\n",
    "            child.get_all_bases(all_bases)\n",
    "            child.gen_key()\n",
    "            \n",
    "    def __set_bases(self, qc: QuantumCircuit)->None:\n",
    "        for i in range(self.no_of_children):\n",
    "            self.children[i].gen_measurement_basis(qc, i + 1)"
   ]
  },
  {
   "cell_type": "code",
   "execution_count": 6,
   "id": "fc3bc4f2-c1c1-4462-8a10-97903e574de1",
   "metadata": {},
   "outputs": [
    {
     "name": "stdout",
     "output_type": "stream",
     "text": [
      "Job Status: job has successfully run\n",
      "0.011969743075225917\n"
     ]
    }
   ],
   "source": [
    "cs = CommonSpace(no_of_children = 3, no_of_measurements = 10)\n",
    "cs.measurement_phase()\n",
    "cs.agreement_phase()\n",
    "print(cs.epsilon)"
   ]
  },
  {
   "cell_type": "code",
   "execution_count": null,
   "id": "0de3a873",
   "metadata": {},
   "outputs": [],
   "source": []
  }
 ],
 "metadata": {
  "kernelspec": {
   "display_name": "Python 3 (ipykernel)",
   "language": "python",
   "name": "python3"
  },
  "language_info": {
   "codemirror_mode": {
    "name": "ipython",
    "version": 3
   },
   "file_extension": ".py",
   "mimetype": "text/x-python",
   "name": "python",
   "nbconvert_exporter": "python",
   "pygments_lexer": "ipython3",
   "version": "3.10.0"
  },
  "widgets": {
   "application/vnd.jupyter.widget-state+json": {
    "state": {},
    "version_major": 2,
    "version_minor": 0
   }
  }
 },
 "nbformat": 4,
 "nbformat_minor": 5
}
